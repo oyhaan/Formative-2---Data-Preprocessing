{
 "cells": [
  {
   "cell_type": "code",
   "execution_count": null,
   "id": "f8f9abb8",
   "metadata": {},
   "outputs": [],
   "source": [
    "# Import required libraries\n",
    "import pandas as pd\n",
    "import numpy as np\n",
    "import librosa\n",
    "import librosa.display\n",
    "from sklearn.model_selection import train_test_split\n",
    "from sklearn.preprocessing import StandardScaler,LabelEncoder, OneHotEncoder\n",
    "from sklearn.ensemble import RandomForestClassifier\n",
    "from sklearn.metrics import accuracy_score, f1_score, log_loss\n",
    "import matplotlib.pyplot as plt\n",
    "import seaborn as sns\n",
    "import os"
   ]
  },
  {
   "cell_type": "markdown",
   "id": "fbdabd49",
   "metadata": {},
   "source": [
    "## 1. Data Loading and Merging\n",
    "\n",
    "We'll start by loading our two datasets:\n",
    "1. `customer_social_profiles.csv`: Contains social media engagement data\n",
    "2. `customer_transactions.csv`: Contains transaction history\n",
    "\n",
    "We'll need to:\n",
    "1. Load both datasets\n",
    "2. Clean and preprocess the data\n",
    "3. Merge the datasets based on customer ID\n",
    "4. Perform feature engineering"
   ]
  },
  {
   "cell_type": "code",
   "execution_count": 3,
   "id": "b523b2ba",
   "metadata": {},
   "outputs": [
    {
     "name": "stdout",
     "output_type": "stream",
     "text": [
      "Customer Social Profiles Dataset:\n",
      "<class 'pandas.core.frame.DataFrame'>\n",
      "RangeIndex: 155 entries, 0 to 154\n",
      "Data columns (total 5 columns):\n",
      " #   Column                   Non-Null Count  Dtype  \n",
      "---  ------                   --------------  -----  \n",
      " 0   customer_id_new          155 non-null    object \n",
      " 1   social_media_platform    155 non-null    object \n",
      " 2   engagement_score         155 non-null    int64  \n",
      " 3   purchase_interest_score  155 non-null    float64\n",
      " 4   review_sentiment         155 non-null    object \n",
      "dtypes: float64(1), int64(1), object(3)\n",
      "memory usage: 6.2+ KB\n",
      "None\n",
      "\n",
      "Customer Transactions Dataset:\n",
      "<class 'pandas.core.frame.DataFrame'>\n",
      "RangeIndex: 150 entries, 0 to 149\n",
      "Data columns (total 6 columns):\n",
      " #   Column              Non-Null Count  Dtype  \n",
      "---  ------              --------------  -----  \n",
      " 0   customer_id_legacy  150 non-null    int64  \n",
      " 1   transaction_id      150 non-null    int64  \n",
      " 2   purchase_amount     150 non-null    int64  \n",
      " 3   purchase_date       150 non-null    object \n",
      " 4   product_category    150 non-null    object \n",
      " 5   customer_rating     140 non-null    float64\n",
      "dtypes: float64(1), int64(3), object(2)\n",
      "memory usage: 7.2+ KB\n",
      "None\n"
     ]
    }
   ],
   "source": [
    "# Load the datasets\n",
    "social_profiles = pd.read_csv('../data/tables/customer_social_profiles.csv')\n",
    "transactions = pd.read_csv('../data/tables/customer_transactions.csv')\n",
    "\n",
    "# Display basic information about the datasets\n",
    "print(\"Customer Social Profiles Dataset:\")\n",
    "print(social_profiles.info())\n",
    "print(\"\\nCustomer Transactions Dataset:\")\n",
    "print(transactions.info())"
   ]
  },
  {
   "cell_type": "code",
   "execution_count": null,
   "id": "5d566b4c",
   "metadata": {},
   "outputs": [],
   "source": [
    "# Clean and preprocess data\n",
    "# Convert customer IDs to a common format (removing 'A' prefix from social profiles)\n",
    "social_profiles['customer_id'] = social_profiles['customer_id_new'].str[1:].astype(int)\n",
    "transactions['customer_id'] = transactions['customer_id_legacy'].astype(int)\n",
    "\n",
    "# Merge datasets\n",
    "merged_data = pd.merge(\n",
    "    social_profiles,\n",
    "    transactions,\n",
    "    on='customer_id',\n",
    "    how='inner'\n",
    ")\n",
    "\n",
    "# Feature engineering\n",
    "# Convert date to datetime\n",
    "merged_data['purchase_date'] = pd.to_datetime(merged_data['purchase_date'])\n",
    "\n",
    "# Create additional features\n",
    "merged_data['engagement_purchase_ratio'] = merged_data['engagement_score'] / merged_data['purchase_amount']\n",
    "merged_data['sentiment_numeric'] = merged_data['review_sentiment'].map({'Positive': 1, 'Neutral': 0, 'Negative': -1})\n",
    "\n",
    "# Display merged dataset info\n",
    "print(\"Merged Dataset Information:\")\n",
    "print(merged_data.info())\n",
    "\n",
    "# Fill missing values \n",
    "for col in merged_data.columns:\n",
    "    if merged_data[col].dtype in ['int64', 'float64']:\n",
    "        # Use median for robustness (handles skewed distributions better)\n",
    "        merged_data[col].fillna(merged_data[col].median(), inplace=True)\n",
    "    else:\n",
    "        # For categorical columns, fill with mode (most common value)\n",
    "        merged_data[col].fillna(merged_data[col].mode()[0], inplace=True)\n",
    "\n",
    "# Save merged dataset\n",
    "merged_data.to_csv('../data/tables/merged_customer_data.csv', index=False)\n",
    "print(\"\\nMerged dataset saved to tables folder\")\n"
   ]
  },
  {
   "cell_type": "code",
   "execution_count": null,
   "id": "ff4def7b",
   "metadata": {},
   "outputs": [],
   "source": []
  }
 ],
 "metadata": {
  "kernelspec": {
   "display_name": "virtual_env",
   "language": "python",
   "name": "python3"
  },
  "language_info": {
   "codemirror_mode": {
    "name": "ipython",
    "version": 3
   },
   "file_extension": ".py",
   "mimetype": "text/x-python",
   "name": "python",
   "nbconvert_exporter": "python",
   "pygments_lexer": "ipython3",
   "version": "3.13.2"
  }
 },
 "nbformat": 4,
 "nbformat_minor": 5
}
